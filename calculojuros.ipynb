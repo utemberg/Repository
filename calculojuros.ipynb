{
  "nbformat": 4,
  "nbformat_minor": 0,
  "metadata": {
    "colab": {
      "provenance": []
    },
    "kernelspec": {
      "name": "python3",
      "display_name": "Python 3"
    },
    "language_info": {
      "name": "python"
    }
  },
  "cells": [
    {
      "cell_type": "code",
      "execution_count": null,
      "metadata": {
        "id": "zx9m7bpt2u8z"
      },
      "outputs": [],
      "source": [
        "# Saudação com meu nome\n",
        "print(\"Bem-vindo a loja do Utemberg Moisés de Morais Galdino\")\n",
        "# Entrar com o valor e a quantidade\n",
        "vlr_prod = float(input('Entre com o valor desejado:R$ '))\n",
        "quant_prod = int(input('Entre com a quantidade desejada: '))\n",
        "# Calcular os dencontos conforme a questão\n",
        "desc_produto = 0 # Começando o desconto a partir de 0\n",
        "\n",
        "\n",
        "if quant_prod < 200:\n",
        "  desc_produto = 0.00\n",
        "elif quant_prod >= 200 and quant_prod < 1000:\n",
        "  desc_produto = 0.05 # 5% de desconto\n",
        "elif quant_prod >= 1000 and quant_prod < 2000:\n",
        "  desc_produto = 0.10 # 10% de desconto\n",
        "else:\n",
        "  desc_produto = 0.15 # 15% de desconto\n",
        "#Formula de cálculo dos valores com desconto e sem desconto\n",
        "total_sem_desconto = vlr_prod * quant_prod\n",
        "print('O valor total SEM desconto é de: R$ {:.2f}'.format(total_sem_desconto)) #print(f'O valor total sem desconto é de: R$ {total_sem_desconto}')\n",
        "total_com_desconto = total_sem_desconto - total_sem_desconto * desc_produto\n",
        "print('O valor total COM desconto é de: R$ {:.2f}'.format(total_com_desconto))\n"
      ]
    }
  ]
}